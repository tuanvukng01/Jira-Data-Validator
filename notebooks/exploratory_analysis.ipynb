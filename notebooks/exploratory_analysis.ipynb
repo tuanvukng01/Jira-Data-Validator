{
 "cells": [
  {
   "cell_type": "code",
   "execution_count": null,
   "id": "initial_id",
   "metadata": {
    "collapsed": true
   },
   "outputs": [],
   "source": [
    "# Import necessary libraries\n",
    "import pandas as pd\n",
    "import matplotlib.pyplot as plt\n",
    "\n",
    "# Load the data\n",
    "df = pd.read_csv('../data/jira_issues.csv')\n",
    "\n",
    "# Display the first few rows of the DataFrame\n",
    "df.head()\n",
    "\n",
    "# Plot the distribution of issue statuses\n",
    "status_counts = df['Status'].value_counts()\n",
    "status_counts.plot(kind='bar', color='skyblue')\n",
    "plt.title('Distribution of Issue Statuses')\n",
    "plt.xlabel('Status')\n",
    "plt.ylabel('Number of Issues')\n",
    "plt.show()\n",
    "\n",
    "# Analyze the time taken to resolve issues (for \"Done\" status)\n",
    "df['Created'] = pd.to_datetime(df['Created'])\n",
    "df['Updated'] = pd.to_datetime(df['Updated'])\n",
    "df['Time_to_Resolve'] = (df['Updated'] - df['Created']).dt.days\n",
    "\n",
    "# Filter to only include resolved issues\n",
    "resolved_issues = df[df['Status'] == 'Done']\n",
    "\n",
    "# Plot the time to resolve issues\n",
    "plt.hist(resolved_issues['Time_to_Resolve'], bins=10, color='lightgreen')\n",
    "plt.title('Time to Resolve Issues')\n",
    "plt.xlabel('Days to Resolve')\n",
    "plt.ylabel('Number of Issues')\n",
    "plt.show()"
   ]
  }
 ],
 "metadata": {
  "kernelspec": {
   "display_name": "Python 3",
   "language": "python",
   "name": "python3"
  },
  "language_info": {
   "codemirror_mode": {
    "name": "ipython",
    "version": 2
   },
   "file_extension": ".py",
   "mimetype": "text/x-python",
   "name": "python",
   "nbconvert_exporter": "python",
   "pygments_lexer": "ipython2",
   "version": "2.7.6"
  }
 },
 "nbformat": 4,
 "nbformat_minor": 5
}
